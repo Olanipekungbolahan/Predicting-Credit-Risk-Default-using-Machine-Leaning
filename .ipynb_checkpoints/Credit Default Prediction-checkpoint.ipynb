{
 "cells": [
  {
   "cell_type": "markdown",
   "id": "3ee1539b",
   "metadata": {},
   "source": [
    "## Credit Default Prediction with Machine Learning"
   ]
  },
  {
   "cell_type": "code",
   "execution_count": 1,
   "id": "31785260",
   "metadata": {},
   "outputs": [
    {
     "name": "stdout",
     "output_type": "stream",
     "text": [
      "ready\n"
     ]
    }
   ],
   "source": [
    "#import dependencies\n",
    "import pandas as pd\n",
    "import seaborn as sns\n",
    "import matplotlib.pyplot as plt\n",
    "import numpy as np\n",
    "%matplotlib inline\n",
    "print ('ready')"
   ]
  },
  {
   "cell_type": "markdown",
   "id": "b5268b52",
   "metadata": {},
   "source": [
    "### Loading Datasets with Pandas"
   ]
  },
  {
   "cell_type": "code",
   "execution_count": 2,
   "id": "2e3d39ca",
   "metadata": {},
   "outputs": [],
   "source": [
    "df_train=pd.read_csv('credit_train.csv')\n",
    "df_test=pd.read_csv('credit_test.csv')"
   ]
  },
  {
   "cell_type": "markdown",
   "id": "53d5d792",
   "metadata": {},
   "source": [
    "### Explorative Data Analysis"
   ]
  },
  {
   "cell_type": "code",
   "execution_count": 3,
   "id": "214a78b2",
   "metadata": {},
   "outputs": [
    {
     "data": {
      "text/plain": [
       "(100514, 19)"
      ]
     },
     "execution_count": 3,
     "metadata": {},
     "output_type": "execute_result"
    }
   ],
   "source": [
    "df_train.shape"
   ]
  },
  {
   "cell_type": "code",
   "execution_count": 4,
   "id": "289d7f1f",
   "metadata": {},
   "outputs": [
    {
     "data": {
      "text/plain": [
       "(10353, 18)"
      ]
     },
     "execution_count": 4,
     "metadata": {},
     "output_type": "execute_result"
    }
   ],
   "source": [
    "df_test.shape"
   ]
  },
  {
   "cell_type": "code",
   "execution_count": 5,
   "id": "325577a0",
   "metadata": {},
   "outputs": [
    {
     "data": {
      "text/plain": [
       "Index(['Loan ID', 'Customer ID', 'Current Loan Amount', 'Term', 'Credit Score',\n",
       "       'Annual Income', 'Years in current job', 'Home Ownership', 'Purpose',\n",
       "       'Monthly Debt', 'Years of Credit History',\n",
       "       'Months since last delinquent', 'Number of Open Accounts',\n",
       "       'Number of Credit Problems', 'Current Credit Balance',\n",
       "       'Maximum Open Credit', 'Bankruptcies', 'Tax Liens'],\n",
       "      dtype='object')"
      ]
     },
     "execution_count": 5,
     "metadata": {},
     "output_type": "execute_result"
    }
   ],
   "source": [
    "df_test.columns"
   ]
  },
  {
   "cell_type": "code",
   "execution_count": 6,
   "id": "1202113e",
   "metadata": {},
   "outputs": [
    {
     "data": {
      "text/plain": [
       "Index(['Loan ID', 'Customer ID', 'Loan Status', 'Current Loan Amount', 'Term',\n",
       "       'Credit Score', 'Annual Income', 'Years in current job',\n",
       "       'Home Ownership', 'Purpose', 'Monthly Debt', 'Years of Credit History',\n",
       "       'Months since last delinquent', 'Number of Open Accounts',\n",
       "       'Number of Credit Problems', 'Current Credit Balance',\n",
       "       'Maximum Open Credit', 'Bankruptcies', 'Tax Liens'],\n",
       "      dtype='object')"
      ]
     },
     "execution_count": 6,
     "metadata": {},
     "output_type": "execute_result"
    }
   ],
   "source": [
    "df_train.columns"
   ]
  },
  {
   "cell_type": "code",
   "execution_count": 7,
   "id": "b29757ad",
   "metadata": {},
   "outputs": [
    {
     "data": {
      "text/html": [
       "<div>\n",
       "<style scoped>\n",
       "    .dataframe tbody tr th:only-of-type {\n",
       "        vertical-align: middle;\n",
       "    }\n",
       "\n",
       "    .dataframe tbody tr th {\n",
       "        vertical-align: top;\n",
       "    }\n",
       "\n",
       "    .dataframe thead th {\n",
       "        text-align: right;\n",
       "    }\n",
       "</style>\n",
       "<table border=\"1\" class=\"dataframe\">\n",
       "  <thead>\n",
       "    <tr style=\"text-align: right;\">\n",
       "      <th></th>\n",
       "      <th>Current Loan Amount</th>\n",
       "      <th>Credit Score</th>\n",
       "      <th>Annual Income</th>\n",
       "      <th>Monthly Debt</th>\n",
       "      <th>Years of Credit History</th>\n",
       "      <th>Months since last delinquent</th>\n",
       "      <th>Number of Open Accounts</th>\n",
       "      <th>Number of Credit Problems</th>\n",
       "      <th>Current Credit Balance</th>\n",
       "      <th>Maximum Open Credit</th>\n",
       "      <th>Bankruptcies</th>\n",
       "      <th>Tax Liens</th>\n",
       "    </tr>\n",
       "  </thead>\n",
       "  <tbody>\n",
       "    <tr>\n",
       "      <th>count</th>\n",
       "      <td>1.000000e+05</td>\n",
       "      <td>80846.000000</td>\n",
       "      <td>8.084600e+04</td>\n",
       "      <td>100000.000000</td>\n",
       "      <td>100000.000000</td>\n",
       "      <td>46859.000000</td>\n",
       "      <td>100000.00000</td>\n",
       "      <td>100000.000000</td>\n",
       "      <td>1.000000e+05</td>\n",
       "      <td>9.999800e+04</td>\n",
       "      <td>99796.000000</td>\n",
       "      <td>99990.000000</td>\n",
       "    </tr>\n",
       "    <tr>\n",
       "      <th>mean</th>\n",
       "      <td>1.176045e+07</td>\n",
       "      <td>1076.456089</td>\n",
       "      <td>1.378277e+06</td>\n",
       "      <td>18472.412336</td>\n",
       "      <td>18.199141</td>\n",
       "      <td>34.901321</td>\n",
       "      <td>11.12853</td>\n",
       "      <td>0.168310</td>\n",
       "      <td>2.946374e+05</td>\n",
       "      <td>7.607984e+05</td>\n",
       "      <td>0.117740</td>\n",
       "      <td>0.029313</td>\n",
       "    </tr>\n",
       "    <tr>\n",
       "      <th>std</th>\n",
       "      <td>3.178394e+07</td>\n",
       "      <td>1475.403791</td>\n",
       "      <td>1.081360e+06</td>\n",
       "      <td>12174.992609</td>\n",
       "      <td>7.015324</td>\n",
       "      <td>21.997829</td>\n",
       "      <td>5.00987</td>\n",
       "      <td>0.482705</td>\n",
       "      <td>3.761709e+05</td>\n",
       "      <td>8.384503e+06</td>\n",
       "      <td>0.351424</td>\n",
       "      <td>0.258182</td>\n",
       "    </tr>\n",
       "    <tr>\n",
       "      <th>min</th>\n",
       "      <td>1.080200e+04</td>\n",
       "      <td>585.000000</td>\n",
       "      <td>7.662700e+04</td>\n",
       "      <td>0.000000</td>\n",
       "      <td>3.600000</td>\n",
       "      <td>0.000000</td>\n",
       "      <td>0.00000</td>\n",
       "      <td>0.000000</td>\n",
       "      <td>0.000000e+00</td>\n",
       "      <td>0.000000e+00</td>\n",
       "      <td>0.000000</td>\n",
       "      <td>0.000000</td>\n",
       "    </tr>\n",
       "    <tr>\n",
       "      <th>25%</th>\n",
       "      <td>1.796520e+05</td>\n",
       "      <td>705.000000</td>\n",
       "      <td>8.488440e+05</td>\n",
       "      <td>10214.162500</td>\n",
       "      <td>13.500000</td>\n",
       "      <td>16.000000</td>\n",
       "      <td>8.00000</td>\n",
       "      <td>0.000000</td>\n",
       "      <td>1.126700e+05</td>\n",
       "      <td>2.734380e+05</td>\n",
       "      <td>0.000000</td>\n",
       "      <td>0.000000</td>\n",
       "    </tr>\n",
       "    <tr>\n",
       "      <th>50%</th>\n",
       "      <td>3.122460e+05</td>\n",
       "      <td>724.000000</td>\n",
       "      <td>1.174162e+06</td>\n",
       "      <td>16220.300000</td>\n",
       "      <td>16.900000</td>\n",
       "      <td>32.000000</td>\n",
       "      <td>10.00000</td>\n",
       "      <td>0.000000</td>\n",
       "      <td>2.098170e+05</td>\n",
       "      <td>4.678740e+05</td>\n",
       "      <td>0.000000</td>\n",
       "      <td>0.000000</td>\n",
       "    </tr>\n",
       "    <tr>\n",
       "      <th>75%</th>\n",
       "      <td>5.249420e+05</td>\n",
       "      <td>741.000000</td>\n",
       "      <td>1.650663e+06</td>\n",
       "      <td>24012.057500</td>\n",
       "      <td>21.700000</td>\n",
       "      <td>51.000000</td>\n",
       "      <td>14.00000</td>\n",
       "      <td>0.000000</td>\n",
       "      <td>3.679588e+05</td>\n",
       "      <td>7.829580e+05</td>\n",
       "      <td>0.000000</td>\n",
       "      <td>0.000000</td>\n",
       "    </tr>\n",
       "    <tr>\n",
       "      <th>max</th>\n",
       "      <td>1.000000e+08</td>\n",
       "      <td>7510.000000</td>\n",
       "      <td>1.655574e+08</td>\n",
       "      <td>435843.280000</td>\n",
       "      <td>70.500000</td>\n",
       "      <td>176.000000</td>\n",
       "      <td>76.00000</td>\n",
       "      <td>15.000000</td>\n",
       "      <td>3.287897e+07</td>\n",
       "      <td>1.539738e+09</td>\n",
       "      <td>7.000000</td>\n",
       "      <td>15.000000</td>\n",
       "    </tr>\n",
       "  </tbody>\n",
       "</table>\n",
       "</div>"
      ],
      "text/plain": [
       "       Current Loan Amount  Credit Score  Annual Income   Monthly Debt  \\\n",
       "count         1.000000e+05  80846.000000   8.084600e+04  100000.000000   \n",
       "mean          1.176045e+07   1076.456089   1.378277e+06   18472.412336   \n",
       "std           3.178394e+07   1475.403791   1.081360e+06   12174.992609   \n",
       "min           1.080200e+04    585.000000   7.662700e+04       0.000000   \n",
       "25%           1.796520e+05    705.000000   8.488440e+05   10214.162500   \n",
       "50%           3.122460e+05    724.000000   1.174162e+06   16220.300000   \n",
       "75%           5.249420e+05    741.000000   1.650663e+06   24012.057500   \n",
       "max           1.000000e+08   7510.000000   1.655574e+08  435843.280000   \n",
       "\n",
       "       Years of Credit History  Months since last delinquent  \\\n",
       "count            100000.000000                  46859.000000   \n",
       "mean                 18.199141                     34.901321   \n",
       "std                   7.015324                     21.997829   \n",
       "min                   3.600000                      0.000000   \n",
       "25%                  13.500000                     16.000000   \n",
       "50%                  16.900000                     32.000000   \n",
       "75%                  21.700000                     51.000000   \n",
       "max                  70.500000                    176.000000   \n",
       "\n",
       "       Number of Open Accounts  Number of Credit Problems  \\\n",
       "count             100000.00000              100000.000000   \n",
       "mean                  11.12853                   0.168310   \n",
       "std                    5.00987                   0.482705   \n",
       "min                    0.00000                   0.000000   \n",
       "25%                    8.00000                   0.000000   \n",
       "50%                   10.00000                   0.000000   \n",
       "75%                   14.00000                   0.000000   \n",
       "max                   76.00000                  15.000000   \n",
       "\n",
       "       Current Credit Balance  Maximum Open Credit  Bankruptcies     Tax Liens  \n",
       "count            1.000000e+05         9.999800e+04  99796.000000  99990.000000  \n",
       "mean             2.946374e+05         7.607984e+05      0.117740      0.029313  \n",
       "std              3.761709e+05         8.384503e+06      0.351424      0.258182  \n",
       "min              0.000000e+00         0.000000e+00      0.000000      0.000000  \n",
       "25%              1.126700e+05         2.734380e+05      0.000000      0.000000  \n",
       "50%              2.098170e+05         4.678740e+05      0.000000      0.000000  \n",
       "75%              3.679588e+05         7.829580e+05      0.000000      0.000000  \n",
       "max              3.287897e+07         1.539738e+09      7.000000     15.000000  "
      ]
     },
     "execution_count": 7,
     "metadata": {},
     "output_type": "execute_result"
    }
   ],
   "source": [
    "df_train.describe()"
   ]
  },
  {
   "cell_type": "code",
   "execution_count": 8,
   "id": "a3e9cc18",
   "metadata": {},
   "outputs": [
    {
     "name": "stdout",
     "output_type": "stream",
     "text": [
      "<class 'pandas.core.frame.DataFrame'>\n",
      "RangeIndex: 100514 entries, 0 to 100513\n",
      "Data columns (total 19 columns):\n",
      " #   Column                        Non-Null Count   Dtype  \n",
      "---  ------                        --------------   -----  \n",
      " 0   Loan ID                       100000 non-null  object \n",
      " 1   Customer ID                   100000 non-null  object \n",
      " 2   Loan Status                   100000 non-null  object \n",
      " 3   Current Loan Amount           100000 non-null  float64\n",
      " 4   Term                          100000 non-null  object \n",
      " 5   Credit Score                  80846 non-null   float64\n",
      " 6   Annual Income                 80846 non-null   float64\n",
      " 7   Years in current job          95778 non-null   object \n",
      " 8   Home Ownership                100000 non-null  object \n",
      " 9   Purpose                       100000 non-null  object \n",
      " 10  Monthly Debt                  100000 non-null  float64\n",
      " 11  Years of Credit History       100000 non-null  float64\n",
      " 12  Months since last delinquent  46859 non-null   float64\n",
      " 13  Number of Open Accounts       100000 non-null  float64\n",
      " 14  Number of Credit Problems     100000 non-null  float64\n",
      " 15  Current Credit Balance        100000 non-null  float64\n",
      " 16  Maximum Open Credit           99998 non-null   float64\n",
      " 17  Bankruptcies                  99796 non-null   float64\n",
      " 18  Tax Liens                     99990 non-null   float64\n",
      "dtypes: float64(12), object(7)\n",
      "memory usage: 14.6+ MB\n"
     ]
    }
   ],
   "source": [
    "df_train.info()"
   ]
  },
  {
   "cell_type": "code",
   "execution_count": 9,
   "id": "7e23005b",
   "metadata": {},
   "outputs": [
    {
     "data": {
      "text/plain": [
       "Loan ID                           514\n",
       "Customer ID                       514\n",
       "Loan Status                       514\n",
       "Current Loan Amount               514\n",
       "Term                              514\n",
       "Credit Score                    19668\n",
       "Annual Income                   19668\n",
       "Years in current job             4736\n",
       "Home Ownership                    514\n",
       "Purpose                           514\n",
       "Monthly Debt                      514\n",
       "Years of Credit History           514\n",
       "Months since last delinquent    53655\n",
       "Number of Open Accounts           514\n",
       "Number of Credit Problems         514\n",
       "Current Credit Balance            514\n",
       "Maximum Open Credit               516\n",
       "Bankruptcies                      718\n",
       "Tax Liens                         524\n",
       "dtype: int64"
      ]
     },
     "execution_count": 9,
     "metadata": {},
     "output_type": "execute_result"
    }
   ],
   "source": [
    "df_train.isnull().sum()"
   ]
  },
  {
   "cell_type": "code",
   "execution_count": 10,
   "id": "b052b95d",
   "metadata": {},
   "outputs": [
    {
     "data": {
      "text/html": [
       "<div>\n",
       "<style scoped>\n",
       "    .dataframe tbody tr th:only-of-type {\n",
       "        vertical-align: middle;\n",
       "    }\n",
       "\n",
       "    .dataframe tbody tr th {\n",
       "        vertical-align: top;\n",
       "    }\n",
       "\n",
       "    .dataframe thead th {\n",
       "        text-align: right;\n",
       "    }\n",
       "</style>\n",
       "<table border=\"1\" class=\"dataframe\">\n",
       "  <thead>\n",
       "    <tr style=\"text-align: right;\">\n",
       "      <th></th>\n",
       "      <th>Current Loan Amount</th>\n",
       "      <th>Credit Score</th>\n",
       "      <th>Annual Income</th>\n",
       "      <th>Monthly Debt</th>\n",
       "      <th>Years of Credit History</th>\n",
       "      <th>Months since last delinquent</th>\n",
       "      <th>Number of Open Accounts</th>\n",
       "      <th>Number of Credit Problems</th>\n",
       "      <th>Current Credit Balance</th>\n",
       "      <th>Maximum Open Credit</th>\n",
       "      <th>Bankruptcies</th>\n",
       "      <th>Tax Liens</th>\n",
       "    </tr>\n",
       "  </thead>\n",
       "  <tbody>\n",
       "    <tr>\n",
       "      <th>count</th>\n",
       "      <td>1.000000e+04</td>\n",
       "      <td>8019.000000</td>\n",
       "      <td>8.019000e+03</td>\n",
       "      <td>10000.000000</td>\n",
       "      <td>10000.000000</td>\n",
       "      <td>4694.000000</td>\n",
       "      <td>10000.00000</td>\n",
       "      <td>10000.000000</td>\n",
       "      <td>1.000000e+04</td>\n",
       "      <td>1.000000e+04</td>\n",
       "      <td>9978.000000</td>\n",
       "      <td>9999.000000</td>\n",
       "    </tr>\n",
       "    <tr>\n",
       "      <th>mean</th>\n",
       "      <td>1.160380e+07</td>\n",
       "      <td>1077.991520</td>\n",
       "      <td>1.369106e+06</td>\n",
       "      <td>18429.671699</td>\n",
       "      <td>18.235930</td>\n",
       "      <td>34.964636</td>\n",
       "      <td>11.08410</td>\n",
       "      <td>0.165500</td>\n",
       "      <td>2.907301e+05</td>\n",
       "      <td>6.871308e+05</td>\n",
       "      <td>0.116356</td>\n",
       "      <td>0.030803</td>\n",
       "    </tr>\n",
       "    <tr>\n",
       "      <th>std</th>\n",
       "      <td>3.160010e+07</td>\n",
       "      <td>1477.467761</td>\n",
       "      <td>8.687557e+05</td>\n",
       "      <td>12399.956192</td>\n",
       "      <td>7.018356</td>\n",
       "      <td>21.640291</td>\n",
       "      <td>5.02338</td>\n",
       "      <td>0.500934</td>\n",
       "      <td>3.881687e+05</td>\n",
       "      <td>1.861394e+06</td>\n",
       "      <td>0.349961</td>\n",
       "      <td>0.288215</td>\n",
       "    </tr>\n",
       "    <tr>\n",
       "      <th>min</th>\n",
       "      <td>1.947000e+04</td>\n",
       "      <td>585.000000</td>\n",
       "      <td>8.109200e+04</td>\n",
       "      <td>0.000000</td>\n",
       "      <td>3.800000</td>\n",
       "      <td>0.000000</td>\n",
       "      <td>1.00000</td>\n",
       "      <td>0.000000</td>\n",
       "      <td>0.000000e+00</td>\n",
       "      <td>0.000000e+00</td>\n",
       "      <td>0.000000</td>\n",
       "      <td>0.000000</td>\n",
       "    </tr>\n",
       "    <tr>\n",
       "      <th>25%</th>\n",
       "      <td>1.789480e+05</td>\n",
       "      <td>706.000000</td>\n",
       "      <td>8.483405e+05</td>\n",
       "      <td>10202.857500</td>\n",
       "      <td>13.600000</td>\n",
       "      <td>17.000000</td>\n",
       "      <td>7.00000</td>\n",
       "      <td>0.000000</td>\n",
       "      <td>1.086515e+05</td>\n",
       "      <td>2.706000e+05</td>\n",
       "      <td>0.000000</td>\n",
       "      <td>0.000000</td>\n",
       "    </tr>\n",
       "    <tr>\n",
       "      <th>50%</th>\n",
       "      <td>3.092760e+05</td>\n",
       "      <td>725.000000</td>\n",
       "      <td>1.168272e+06</td>\n",
       "      <td>16052.055000</td>\n",
       "      <td>17.000000</td>\n",
       "      <td>32.000000</td>\n",
       "      <td>10.00000</td>\n",
       "      <td>0.000000</td>\n",
       "      <td>2.075180e+05</td>\n",
       "      <td>4.626050e+05</td>\n",
       "      <td>0.000000</td>\n",
       "      <td>0.000000</td>\n",
       "    </tr>\n",
       "    <tr>\n",
       "      <th>75%</th>\n",
       "      <td>5.157075e+05</td>\n",
       "      <td>741.000000</td>\n",
       "      <td>1.664390e+06</td>\n",
       "      <td>23881.337500</td>\n",
       "      <td>21.700000</td>\n",
       "      <td>50.000000</td>\n",
       "      <td>14.00000</td>\n",
       "      <td>0.000000</td>\n",
       "      <td>3.624630e+05</td>\n",
       "      <td>7.861150e+05</td>\n",
       "      <td>0.000000</td>\n",
       "      <td>0.000000</td>\n",
       "    </tr>\n",
       "    <tr>\n",
       "      <th>max</th>\n",
       "      <td>1.000000e+08</td>\n",
       "      <td>7510.000000</td>\n",
       "      <td>1.781535e+07</td>\n",
       "      <td>229057.920000</td>\n",
       "      <td>62.500000</td>\n",
       "      <td>131.000000</td>\n",
       "      <td>55.00000</td>\n",
       "      <td>10.000000</td>\n",
       "      <td>1.623744e+07</td>\n",
       "      <td>1.459073e+08</td>\n",
       "      <td>5.000000</td>\n",
       "      <td>9.000000</td>\n",
       "    </tr>\n",
       "  </tbody>\n",
       "</table>\n",
       "</div>"
      ],
      "text/plain": [
       "       Current Loan Amount  Credit Score  Annual Income   Monthly Debt  \\\n",
       "count         1.000000e+04   8019.000000   8.019000e+03   10000.000000   \n",
       "mean          1.160380e+07   1077.991520   1.369106e+06   18429.671699   \n",
       "std           3.160010e+07   1477.467761   8.687557e+05   12399.956192   \n",
       "min           1.947000e+04    585.000000   8.109200e+04       0.000000   \n",
       "25%           1.789480e+05    706.000000   8.483405e+05   10202.857500   \n",
       "50%           3.092760e+05    725.000000   1.168272e+06   16052.055000   \n",
       "75%           5.157075e+05    741.000000   1.664390e+06   23881.337500   \n",
       "max           1.000000e+08   7510.000000   1.781535e+07  229057.920000   \n",
       "\n",
       "       Years of Credit History  Months since last delinquent  \\\n",
       "count             10000.000000                   4694.000000   \n",
       "mean                 18.235930                     34.964636   \n",
       "std                   7.018356                     21.640291   \n",
       "min                   3.800000                      0.000000   \n",
       "25%                  13.600000                     17.000000   \n",
       "50%                  17.000000                     32.000000   \n",
       "75%                  21.700000                     50.000000   \n",
       "max                  62.500000                    131.000000   \n",
       "\n",
       "       Number of Open Accounts  Number of Credit Problems  \\\n",
       "count              10000.00000               10000.000000   \n",
       "mean                  11.08410                   0.165500   \n",
       "std                    5.02338                   0.500934   \n",
       "min                    1.00000                   0.000000   \n",
       "25%                    7.00000                   0.000000   \n",
       "50%                   10.00000                   0.000000   \n",
       "75%                   14.00000                   0.000000   \n",
       "max                   55.00000                  10.000000   \n",
       "\n",
       "       Current Credit Balance  Maximum Open Credit  Bankruptcies    Tax Liens  \n",
       "count            1.000000e+04         1.000000e+04   9978.000000  9999.000000  \n",
       "mean             2.907301e+05         6.871308e+05      0.116356     0.030803  \n",
       "std              3.881687e+05         1.861394e+06      0.349961     0.288215  \n",
       "min              0.000000e+00         0.000000e+00      0.000000     0.000000  \n",
       "25%              1.086515e+05         2.706000e+05      0.000000     0.000000  \n",
       "50%              2.075180e+05         4.626050e+05      0.000000     0.000000  \n",
       "75%              3.624630e+05         7.861150e+05      0.000000     0.000000  \n",
       "max              1.623744e+07         1.459073e+08      5.000000     9.000000  "
      ]
     },
     "execution_count": 10,
     "metadata": {},
     "output_type": "execute_result"
    }
   ],
   "source": [
    "df_test.describe()"
   ]
  },
  {
   "cell_type": "code",
   "execution_count": 11,
   "id": "db36d21b",
   "metadata": {},
   "outputs": [
    {
     "data": {
      "text/plain": [
       "Loan ID                          353\n",
       "Customer ID                      353\n",
       "Current Loan Amount              353\n",
       "Term                             353\n",
       "Credit Score                    2334\n",
       "Annual Income                   2334\n",
       "Years in current job             780\n",
       "Home Ownership                   353\n",
       "Purpose                          353\n",
       "Monthly Debt                     353\n",
       "Years of Credit History          353\n",
       "Months since last delinquent    5659\n",
       "Number of Open Accounts          353\n",
       "Number of Credit Problems        353\n",
       "Current Credit Balance           353\n",
       "Maximum Open Credit              353\n",
       "Bankruptcies                     375\n",
       "Tax Liens                        354\n",
       "dtype: int64"
      ]
     },
     "execution_count": 11,
     "metadata": {},
     "output_type": "execute_result"
    }
   ],
   "source": [
    "df_test.isnull().sum()"
   ]
  },
  {
   "cell_type": "code",
   "execution_count": 12,
   "id": "f2ce3f04",
   "metadata": {},
   "outputs": [
    {
     "name": "stdout",
     "output_type": "stream",
     "text": [
      "<class 'pandas.core.frame.DataFrame'>\n",
      "RangeIndex: 10353 entries, 0 to 10352\n",
      "Data columns (total 18 columns):\n",
      " #   Column                        Non-Null Count  Dtype  \n",
      "---  ------                        --------------  -----  \n",
      " 0   Loan ID                       10000 non-null  object \n",
      " 1   Customer ID                   10000 non-null  object \n",
      " 2   Current Loan Amount           10000 non-null  float64\n",
      " 3   Term                          10000 non-null  object \n",
      " 4   Credit Score                  8019 non-null   float64\n",
      " 5   Annual Income                 8019 non-null   float64\n",
      " 6   Years in current job          9573 non-null   object \n",
      " 7   Home Ownership                10000 non-null  object \n",
      " 8   Purpose                       10000 non-null  object \n",
      " 9   Monthly Debt                  10000 non-null  float64\n",
      " 10  Years of Credit History       10000 non-null  float64\n",
      " 11  Months since last delinquent  4694 non-null   float64\n",
      " 12  Number of Open Accounts       10000 non-null  float64\n",
      " 13  Number of Credit Problems     10000 non-null  float64\n",
      " 14  Current Credit Balance        10000 non-null  float64\n",
      " 15  Maximum Open Credit           10000 non-null  float64\n",
      " 16  Bankruptcies                  9978 non-null   float64\n",
      " 17  Tax Liens                     9999 non-null   float64\n",
      "dtypes: float64(12), object(6)\n",
      "memory usage: 1.4+ MB\n"
     ]
    }
   ],
   "source": [
    "df_test.info()"
   ]
  },
  {
   "cell_type": "code",
   "execution_count": null,
   "id": "5d0ce6b7",
   "metadata": {},
   "outputs": [
    {
     "data": {
      "application/vnd.jupyter.widget-view+json": {
       "model_id": "14cf25a191164e4bbfd85084d3aa5c7d",
       "version_major": 2,
       "version_minor": 0
      },
      "text/plain": [
       "Summarize dataset:   0%|          | 0/5 [00:00<?, ?it/s]"
      ]
     },
     "metadata": {},
     "output_type": "display_data"
    },
    {
     "name": "stderr",
     "output_type": "stream",
     "text": [
      "C:\\Users\\LENOVO\\anaconda3\\lib\\site-packages\\scipy\\stats\\stats.py:4812: RuntimeWarning: overflow encountered in longlong_scalars\n",
      "  (2 * xtie * ytie) / m + x0 * y0 / (9 * m * (size - 2)))\n"
     ]
    }
   ],
   "source": [
    "from pandas_profiling import ProfileReport\n",
    "# Generate a profile report\n",
    "profile_train = ProfileReport(df_train, title='Credit_train_Pandas Profiling Report', explorative=True)\n",
    "profile_test = ProfileReport(df_test, title='Credit_test_Pandas Profiling Report', explorative=True)\n",
    "# Save the report to an HTML file\n",
    "profile_train.to_file(\"pandas_profiling_report.html\")\n",
    "profile_test.to_file(\"pandas_profiling_report.html\")"
   ]
  },
  {
   "cell_type": "code",
   "execution_count": null,
   "id": "33a7c467",
   "metadata": {
    "scrolled": true
   },
   "outputs": [],
   "source": [
    "profile_test"
   ]
  },
  {
   "cell_type": "code",
   "execution_count": null,
   "id": "85396705",
   "metadata": {},
   "outputs": [],
   "source": [
    "profile_train"
   ]
  },
  {
   "cell_type": "code",
   "execution_count": null,
   "id": "19e95fd8",
   "metadata": {},
   "outputs": [],
   "source": [
    "### Checking for Missing data (Nans) in the datafarme using the library missingno\n",
    "import missingno as msno\n",
    "msno.bar(df_train)\n",
    "%matplotlib inline\n",
    "# Null values found in the 2 pressure columns"
   ]
  },
  {
   "cell_type": "code",
   "execution_count": null,
   "id": "83d78887",
   "metadata": {},
   "outputs": [],
   "source": [
    "msno.heatmap(df_train)"
   ]
  },
  {
   "cell_type": "code",
   "execution_count": null,
   "id": "cb412451",
   "metadata": {
    "scrolled": true
   },
   "outputs": [],
   "source": [
    "msno.matrix(df_train)"
   ]
  },
  {
   "cell_type": "code",
   "execution_count": null,
   "id": "b82c774f",
   "metadata": {},
   "outputs": [],
   "source": [
    "### Checking for Missing data (Nans) in the datafarme using the library missingno\n",
    "import missingno as msno\n",
    "msno.bar(df_test)\n",
    "%matplotlib inline\n",
    "# Null values found in the 2 pressure columns"
   ]
  },
  {
   "cell_type": "code",
   "execution_count": null,
   "id": "23014cf6",
   "metadata": {},
   "outputs": [],
   "source": [
    "msno.heatmap(df_test)"
   ]
  },
  {
   "cell_type": "code",
   "execution_count": null,
   "id": "deb497b9",
   "metadata": {},
   "outputs": [],
   "source": [
    "msno.matrix(df_test)"
   ]
  },
  {
   "cell_type": "code",
   "execution_count": null,
   "id": "ad144287",
   "metadata": {},
   "outputs": [],
   "source": [
    "df_train = df_train.dropna()"
   ]
  },
  {
   "cell_type": "code",
   "execution_count": null,
   "id": "07425544",
   "metadata": {},
   "outputs": [],
   "source": [
    "df_test=df_test.dropna()"
   ]
  },
  {
   "cell_type": "code",
   "execution_count": null,
   "id": "7fdc62ea",
   "metadata": {},
   "outputs": [],
   "source": [
    "df_train.info()"
   ]
  },
  {
   "cell_type": "code",
   "execution_count": null,
   "id": "6490fbb4",
   "metadata": {},
   "outputs": [],
   "source": [
    "df_test.info()"
   ]
  },
  {
   "cell_type": "code",
   "execution_count": null,
   "id": "e15d0b74",
   "metadata": {},
   "outputs": [],
   "source": [
    "df_train.isnull().sum()"
   ]
  },
  {
   "cell_type": "code",
   "execution_count": null,
   "id": "a63ee70e",
   "metadata": {},
   "outputs": [],
   "source": [
    "df_test.isnull().sum()"
   ]
  },
  {
   "cell_type": "code",
   "execution_count": null,
   "id": "649282c4",
   "metadata": {},
   "outputs": [],
   "source": [
    "df_train.shape"
   ]
  },
  {
   "cell_type": "markdown",
   "id": "1e5c14c2",
   "metadata": {},
   "source": [
    "### Data Preparation"
   ]
  },
  {
   "cell_type": "code",
   "execution_count": null,
   "id": "82c51f2b",
   "metadata": {},
   "outputs": [],
   "source": [
    "df_train.drop_duplicates(inplace=True)"
   ]
  },
  {
   "cell_type": "code",
   "execution_count": null,
   "id": "ab3d31bc",
   "metadata": {},
   "outputs": [],
   "source": [
    "df_test.drop_duplicates(inplace=True)"
   ]
  },
  {
   "cell_type": "code",
   "execution_count": null,
   "id": "2b0f43a4",
   "metadata": {},
   "outputs": [],
   "source": [
    "df_train.shape"
   ]
  },
  {
   "cell_type": "code",
   "execution_count": null,
   "id": "3b0fc926",
   "metadata": {},
   "outputs": [],
   "source": [
    "df_train.columns"
   ]
  },
  {
   "cell_type": "code",
   "execution_count": null,
   "id": "b3012964",
   "metadata": {},
   "outputs": [],
   "source": [
    "df_test.columns"
   ]
  },
  {
   "cell_type": "code",
   "execution_count": null,
   "id": "174b15fe",
   "metadata": {},
   "outputs": [],
   "source": [
    "###Check for Correllation"
   ]
  },
  {
   "cell_type": "code",
   "execution_count": null,
   "id": "6ca73824",
   "metadata": {},
   "outputs": [],
   "source": [
    "correlation_matrix = df_train.corr()\n",
    "sns.heatmap(correlation_matrix, annot=True, cmap='coolwarm', linewidths=.5)\n",
    "plt.show()"
   ]
  },
  {
   "cell_type": "code",
   "execution_count": null,
   "id": "ec04f2f0",
   "metadata": {},
   "outputs": [],
   "source": [
    "correlation_matrix = df_test.corr()\n",
    "sns.heatmap(correlation_matrix, annot=True, cmap='coolwarm', linewidths=.5)\n",
    "plt.show()"
   ]
  },
  {
   "cell_type": "code",
   "execution_count": null,
   "id": "496554db",
   "metadata": {},
   "outputs": [],
   "source": [
    "drop_columns=['Loan ID','Customer ID',]"
   ]
  },
  {
   "cell_type": "code",
   "execution_count": null,
   "id": "d7fd82f8",
   "metadata": {},
   "outputs": [],
   "source": [
    "df_test=df_test.drop(columns=drop_columns)"
   ]
  },
  {
   "cell_type": "code",
   "execution_count": null,
   "id": "4bb99981",
   "metadata": {},
   "outputs": [],
   "source": [
    "df_train=df_train.drop(columns=drop_columns)"
   ]
  },
  {
   "cell_type": "code",
   "execution_count": null,
   "id": "df89dc8f",
   "metadata": {},
   "outputs": [],
   "source": [
    "df_train.columns"
   ]
  },
  {
   "cell_type": "code",
   "execution_count": null,
   "id": "facb3d5d",
   "metadata": {},
   "outputs": [],
   "source": [
    "sns.countplot(x='Loan Status',data=df_train)# To be treated as imbalance data set"
   ]
  },
  {
   "cell_type": "code",
   "execution_count": null,
   "id": "169f79c3",
   "metadata": {},
   "outputs": [],
   "source": [
    "df_train.head(10)"
   ]
  },
  {
   "cell_type": "code",
   "execution_count": null,
   "id": "029e5f9b",
   "metadata": {},
   "outputs": [],
   "source": [
    "df_train['Term'].unique()"
   ]
  },
  {
   "cell_type": "code",
   "execution_count": null,
   "id": "01bc3679",
   "metadata": {},
   "outputs": [],
   "source": [
    "df_train['Purpose'].unique()"
   ]
  },
  {
   "cell_type": "code",
   "execution_count": null,
   "id": "f253694f",
   "metadata": {},
   "outputs": [],
   "source": [
    "df_train['Home Ownership'].unique()"
   ]
  },
  {
   "cell_type": "code",
   "execution_count": null,
   "id": "899b01bc",
   "metadata": {},
   "outputs": [],
   "source": [
    "df_train['Purpose'].unique()"
   ]
  },
  {
   "cell_type": "code",
   "execution_count": null,
   "id": "b0630cc1",
   "metadata": {},
   "outputs": [],
   "source": [
    "df_train['Years in current job'].unique()"
   ]
  },
  {
   "cell_type": "code",
   "execution_count": null,
   "id": "0baaae93",
   "metadata": {},
   "outputs": [],
   "source": [
    "df_train['Years in current job'] = df_train['Years in current job'].str.extract('(\\d+)').astype(float).round()"
   ]
  },
  {
   "cell_type": "code",
   "execution_count": null,
   "id": "3b1c6e37",
   "metadata": {},
   "outputs": [],
   "source": [
    "df_train['Years in current job'].unique()"
   ]
  },
  {
   "cell_type": "code",
   "execution_count": null,
   "id": "29b59706",
   "metadata": {},
   "outputs": [],
   "source": [
    "df_test['Years in current job'] = df_test['Years in current job'].str.extract('(\\d+)').astype(float).round()"
   ]
  },
  {
   "cell_type": "code",
   "execution_count": null,
   "id": "a1124082",
   "metadata": {},
   "outputs": [],
   "source": [
    "df_test['Years in current job'].unique()"
   ]
  },
  {
   "cell_type": "markdown",
   "id": "bc827d5b",
   "metadata": {},
   "source": [
    "### Encoding of Categorical data"
   ]
  },
  {
   "cell_type": "code",
   "execution_count": null,
   "id": "83b58a32",
   "metadata": {},
   "outputs": [],
   "source": [
    "from sklearn.preprocessing import LabelEncoder\n",
    "\n",
    "lb = LabelEncoder()\n",
    "\n",
    "df_train['Loan Status'] = lb.fit_transform(df_train['Loan Status'])\n",
    "df_train['Term'] = lb.fit_transform(df_train['Term'])\n",
    "df_train['Purpose'] = lb.fit_transform(df_train['Purpose'])\n",
    "df_train['Home Ownership'] = lb.fit_transform(df_train['Home Ownership'])\n",
    "\n",
    "df_train"
   ]
  },
  {
   "cell_type": "code",
   "execution_count": null,
   "id": "c3470315",
   "metadata": {},
   "outputs": [],
   "source": [
    "from sklearn.preprocessing import LabelEncoder\n",
    "\n",
    "lb = LabelEncoder()\n",
    "\n",
    "df_test['Term'] = lb.fit_transform(df_test['Term'])\n",
    "df_test['Purpose'] = lb.fit_transform(df_test['Purpose'])\n",
    "df_test['Home Ownership'] = lb.fit_transform(df_test['Home Ownership'])\n",
    "\n",
    "df_test"
   ]
  },
  {
   "cell_type": "markdown",
   "id": "2b36b796",
   "metadata": {},
   "source": [
    "### Addressing the problem of Imbalanced Dataset"
   ]
  },
  {
   "cell_type": "code",
   "execution_count": null,
   "id": "14ab6560",
   "metadata": {},
   "outputs": [],
   "source": [
    "df_train['Loan Status'].value_counts()"
   ]
  },
  {
   "cell_type": "code",
   "execution_count": null,
   "id": "2c4ab262",
   "metadata": {},
   "outputs": [],
   "source": [
    "sns.countplot(x='Loan Status',data=df_train)# To be treated as imbalance data set\n",
    "#1=fully paid 0= Charged Off"
   ]
  },
  {
   "cell_type": "code",
   "execution_count": null,
   "id": "be22989b",
   "metadata": {},
   "outputs": [],
   "source": [
    "# Resample minority class to equal majority class\n",
    "from sklearn.utils import resample\n",
    "minority = df_train[df_train['Loan Status'] == 0]\n",
    "majority = df_train[df_train['Loan Status'] == 1]\n",
    "\n",
    "# Upsample the minority class to match the number of majority class samples\n",
    "minority_upsampled = resample(minority, replace=True, n_samples=len(majority), random_state=42)\n",
    "\n",
    "# Concatenate the majority class and upsampled minority class\n",
    "df_train_2 = pd.concat([majority, minority_upsampled], axis=0)"
   ]
  },
  {
   "cell_type": "code",
   "execution_count": null,
   "id": "0307f378",
   "metadata": {},
   "outputs": [],
   "source": [
    "sns.countplot(x='Loan Status',data=df_train_2)"
   ]
  },
  {
   "cell_type": "code",
   "execution_count": null,
   "id": "0258d4ae",
   "metadata": {},
   "outputs": [],
   "source": [
    "df_train_2.head()"
   ]
  },
  {
   "cell_type": "code",
   "execution_count": null,
   "id": "dfa3647a",
   "metadata": {},
   "outputs": [],
   "source": [
    "df_test.head()"
   ]
  },
  {
   "cell_type": "markdown",
   "id": "05a28a31",
   "metadata": {},
   "source": [
    "### Data Normalization"
   ]
  },
  {
   "cell_type": "code",
   "execution_count": null,
   "id": "2570fe2d",
   "metadata": {},
   "outputs": [],
   "source": [
    "from sklearn.preprocessing import MinMaxScaler\n",
    "X=df_train_2.drop(['Loan Status'],axis=1)\n",
    "X_transform= MinMaxScaler().fit_transform(X)\n",
    "y = df_train_2['Loan Status']\n",
    "X_2=df_test"
   ]
  },
  {
   "cell_type": "code",
   "execution_count": null,
   "id": "f212acf0",
   "metadata": {},
   "outputs": [],
   "source": [
    "df_train_2.columns"
   ]
  },
  {
   "cell_type": "code",
   "execution_count": null,
   "id": "6e248f52",
   "metadata": {},
   "outputs": [],
   "source": [
    "df_test.columns"
   ]
  },
  {
   "cell_type": "code",
   "execution_count": null,
   "id": "450743f3",
   "metadata": {},
   "outputs": [],
   "source": [
    "#X_train=X\n",
    "#X_test=X_2\n",
    "#y_train=y\n",
    "#y_test="
   ]
  },
  {
   "cell_type": "markdown",
   "id": "0cce7590",
   "metadata": {},
   "source": [
    "## Training Machine Learning  Classifiers :Random Forest and XGBoost"
   ]
  },
  {
   "cell_type": "markdown",
   "id": "83c4ef48",
   "metadata": {},
   "source": [
    "### Random Forest"
   ]
  },
  {
   "cell_type": "code",
   "execution_count": null,
   "id": "0c284f78",
   "metadata": {},
   "outputs": [],
   "source": [
    "# Split the data into training and testing sets\n",
    "from sklearn.model_selection import train_test_split\n",
    "X_train, X_test, y_train, y_test = train_test_split(X_transform, y, test_size=0.2, random_state=42)"
   ]
  },
  {
   "cell_type": "code",
   "execution_count": null,
   "id": "b662c0bd",
   "metadata": {},
   "outputs": [],
   "source": [
    "from sklearn.model_selection import train_test_split\n",
    "from sklearn.ensemble import RandomForestClassifier\n",
    "from sklearn.metrics import accuracy_score, classification_report"
   ]
  },
  {
   "cell_type": "code",
   "execution_count": null,
   "id": "228059c7",
   "metadata": {},
   "outputs": [],
   "source": [
    "# Create a Random Forest Classifier\n",
    "rf_classifier = RandomForestClassifier(n_estimators=100, random_state=42)\n",
    "\n",
    "# Train the classifier on the training data\n",
    "rf_classifier.fit(X_train, y_train)\n",
    "\n",
    "# Make predictions on the test data\n",
    "y_pred = rf_classifier.predict(X_test)\n",
    "\n",
    "# Evaluate the performance\n",
    "accuracy = accuracy_score(y_test, y_pred)\n",
    "print(f\"Accuracy: {accuracy:.2f}\")\n",
    "\n",
    "# Additional evaluation metrics\n",
    "print(\"Classification Report:\\n\", classification_report(y_test, y_pred))\n",
    "\n",
    "# Display confusion matrix\n",
    "from sklearn.metrics import accuracy_score, classification_report, confusion_matrix\n",
    "print(\"Confusion Matrix:\\n\", confusion_matrix(y_test, y_pred))"
   ]
  },
  {
   "cell_type": "code",
   "execution_count": null,
   "id": "016fdf0e",
   "metadata": {},
   "outputs": [],
   "source": [
    "X_test2 = df_test  # Assuming df_test is your test dataset\n",
    "y_test_pred = rf_classifier.predict(X_test2)"
   ]
  },
  {
   "cell_type": "code",
   "execution_count": null,
   "id": "a4ba7978",
   "metadata": {},
   "outputs": [],
   "source": [
    "y_test_pred"
   ]
  },
  {
   "cell_type": "markdown",
   "id": "b9f90080",
   "metadata": {},
   "source": [
    "### XGBoost"
   ]
  },
  {
   "cell_type": "code",
   "execution_count": null,
   "id": "02588c8d",
   "metadata": {},
   "outputs": [],
   "source": [
    "import xgboost as xgb\n",
    "from sklearn.model_selection import train_test_split\n",
    "from sklearn.metrics import accuracy_score, classification_report"
   ]
  },
  {
   "cell_type": "code",
   "execution_count": null,
   "id": "f65eac3c",
   "metadata": {},
   "outputs": [],
   "source": [
    "# Create an XGBoost classifier\n",
    "model = xgb.XGBClassifier(objective=\"multi:softmax\", num_class=len(set(y)))"
   ]
  },
  {
   "cell_type": "code",
   "execution_count": null,
   "id": "d832f352",
   "metadata": {},
   "outputs": [],
   "source": [
    "# Train the model\n",
    "model.fit(X_train, y_train)\n",
    "\n",
    "# Make predictions on the test set\n",
    "y_pred = model.predict(X_test)\n",
    "\n",
    "# Evaluate the model\n",
    "accuracy = accuracy_score(y_test, y_pred)\n",
    "print(f\"Accuracy: {accuracy:.2f}\")\n",
    "\n",
    "# Display classification report\n",
    "print(\"Classification Report:\")\n",
    "print(classification_report(y_test, y_pred))\n",
    "\n",
    "# Obtain the confusion matrix\n",
    "conf_matrix1 = confusion_matrix(y_test, y_pred)\n",
    "print(\"Confusion Matrix:\")\n",
    "print(conf_matrix1)"
   ]
  },
  {
   "cell_type": "markdown",
   "id": "725985e1",
   "metadata": {},
   "source": [
    "## The idea behind hyperoptimisation is to improved the model's classification ability"
   ]
  },
  {
   "cell_type": "markdown",
   "id": "b3730459",
   "metadata": {},
   "source": [
    "### Hyperparameter Optimisation of XGBoost Classifier"
   ]
  },
  {
   "cell_type": "code",
   "execution_count": null,
   "id": "b4dbbad8",
   "metadata": {},
   "outputs": [],
   "source": [
    "from sklearn.model_selection import RandomizedSearchCV, train_test_split\n",
    "from sklearn.ensemble import RandomForestClassifier\n",
    "from sklearn.metrics import accuracy_score\n",
    "import warnings\n",
    "\n",
    "# To ignore all warnings\n",
    "warnings.filterwarnings(\"ignore\")\n",
    "\n",
    "\n",
    "# Define the hyperparameters and their possible values\n",
    "param_dist = {\n",
    "    'n_estimators': [50, 100, 200],\n",
    "    'max_depth': [None, 10, 20],\n",
    "    'min_samples_split': [2, 5, 10],\n",
    "    'min_samples_leaf': [1, 2, 4]\n",
    "}\n",
    "\n",
    "# Create the randomized search with cross-validation\n",
    "random_search1 = RandomizedSearchCV(\n",
    "    estimator=model,\n",
    "    param_distributions=param_dist,\n",
    "    n_iter=10,  # Number of parameter settings that are sampled\n",
    "    cv=3,       # Number of folds in cross-validation\n",
    "    scoring='accuracy',\n",
    "    random_state=42\n",
    ")\n",
    "\n",
    "# Fit the randomized search to the data\n",
    "random_search1.fit(X_train, y_train)\n",
    "\n",
    "# Get the best hyperparameters\n",
    "best_params = random_search1.best_params_\n",
    "print(\"Best Hyperparameters:\", best_params)\n",
    "\n",
    "# Use the best model to make predictions\n",
    "best_model1 = random_search1.best_estimator_\n",
    "y_pred = best_model1.predict(X_test)\n",
    "\n",
    "# Evaluate the performance\n",
    "accuracy = accuracy_score(y_test, y_pred)\n",
    "print(f\"Accuracy: {accuracy:.2f}\")\n",
    "# Obtain the confusion matrix\n",
    "\n",
    "conf_matrix2 = confusion_matrix(y_test, y_pred)\n",
    "print(\"Confusion Matrix:\")\n",
    "print(conf_matrix2)"
   ]
  },
  {
   "cell_type": "markdown",
   "id": "bfe80027",
   "metadata": {},
   "source": [
    "### Hyperparameter of RandomForest Classifier"
   ]
  },
  {
   "cell_type": "code",
   "execution_count": null,
   "id": "a809b794",
   "metadata": {},
   "outputs": [],
   "source": [
    "from sklearn.model_selection import RandomizedSearchCV, train_test_split\n",
    "from sklearn.ensemble import RandomForestClassifier\n",
    "from sklearn.metrics import accuracy_score\n",
    "import warnings\n",
    "\n",
    "# To ignore all warnings\n",
    "warnings.filterwarnings(\"ignore\")\n",
    "\n",
    "\n",
    "# Define the hyperparameters and their possible values\n",
    "param_dist = {\n",
    "    'n_estimators': [50, 100, 200],\n",
    "    'max_depth': [None, 10, 20],\n",
    "    'min_samples_split': [2, 5, 10],\n",
    "    'min_samples_leaf': [1, 2, 4]\n",
    "}\n",
    "\n",
    "# Create the randomized search with cross-validation\n",
    "random_search2 = RandomizedSearchCV(\n",
    "    estimator=rf_classifier,\n",
    "    param_distributions=param_dist,\n",
    "    n_iter=10,  # Number of parameter settings that are sampled\n",
    "    cv=3,       # Number of folds in cross-validation\n",
    "    scoring='accuracy',\n",
    "    random_state=42\n",
    ")\n",
    "\n",
    "# Fit the randomized search to the data\n",
    "random_search2.fit(X_train, y_train)\n",
    "\n",
    "# Get the best hyperparameters\n",
    "best_params = random_search2.best_params_\n",
    "print(\"Best Hyperparameters:\", best_params)\n",
    "\n",
    "# Use the best model to make predictions\n",
    "best_model2 = random_search2.best_estimator_\n",
    "y_pred = best_model2.predict(X_test)\n",
    "\n",
    "# Evaluate the performance\n",
    "accuracy = accuracy_score(y_test, y_pred)\n",
    "print(f\"Accuracy: {accuracy:.2f}\")\n",
    "# Obtain the confusion matrix\n",
    "\n",
    "conf_matrix3 = confusion_matrix(y_test, y_pred)\n",
    "print(\"Confusion Matrix:\")\n",
    "print(conf_matrix3)"
   ]
  },
  {
   "cell_type": "markdown",
   "id": "d82f05df",
   "metadata": {},
   "source": [
    "## Pikling all models"
   ]
  },
  {
   "cell_type": "code",
   "execution_count": null,
   "id": "6e45ed55",
   "metadata": {},
   "outputs": [],
   "source": [
    "# Save the trained model to a PKL file\n",
    "import pickle\n",
    "with open('rf_classifier.pkl', 'wb') as file:\n",
    "    pickle.dump(rf_classifier, file)"
   ]
  },
  {
   "cell_type": "code",
   "execution_count": null,
   "id": "26fff075",
   "metadata": {},
   "outputs": [],
   "source": [
    "# Save the trained model to a PKL file\n",
    "import pickle\n",
    "with open('model.pkl', 'wb') as file:\n",
    "    pickle.dump(model, file)"
   ]
  },
  {
   "cell_type": "code",
   "execution_count": null,
   "id": "8c7f84aa",
   "metadata": {},
   "outputs": [],
   "source": [
    "# Save the trained model to a PKL file\n",
    "import pickle\n",
    "with open('best_model1.pkl', 'wb') as file:\n",
    "    pickle.dump(best_model1, file)"
   ]
  },
  {
   "cell_type": "code",
   "execution_count": null,
   "id": "c38a93bb",
   "metadata": {},
   "outputs": [],
   "source": [
    "# Save the trained model to a PKL file\n",
    "import pickle\n",
    "with open('best_model2.pkl', 'wb') as file:\n",
    "    pickle.dump(best_model2, file)"
   ]
  }
 ],
 "metadata": {
  "kernelspec": {
   "display_name": "Python 3 (ipykernel)",
   "language": "python",
   "name": "python3"
  },
  "language_info": {
   "codemirror_mode": {
    "name": "ipython",
    "version": 3
   },
   "file_extension": ".py",
   "mimetype": "text/x-python",
   "name": "python",
   "nbconvert_exporter": "python",
   "pygments_lexer": "ipython3",
   "version": "3.9.7"
  }
 },
 "nbformat": 4,
 "nbformat_minor": 5
}
